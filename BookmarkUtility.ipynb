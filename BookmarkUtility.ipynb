{
 "cells": [
  {
   "cell_type": "code",
   "execution_count": 1,
   "metadata": {},
   "outputs": [],
   "source": [
    "import os\n",
    "import shutil\n",
    "from io import StringIO, BytesIO, IOBase\n",
    "import xml.etree.ElementTree as ET\n",
    "from lxml import etree\n",
    "\n",
    "data_loc = 'data/Safari_Bookmarks_2018_12_22.html'"
   ]
  },
  {
   "cell_type": "code",
   "execution_count": 2,
   "metadata": {},
   "outputs": [],
   "source": [
    "from enum import Enum\n",
    "\n",
    "class TreeNodeType(Enum):\n",
    "    FOLDED=1\n",
    "    LINK=2\n",
    "\n",
    "class TreeNode(object):\n",
    "    \"\"\"\n",
    "    TreeNode for generic tree construction.\n",
    "    \"\"\"\n",
    "    def __init__(self, _val: dict, _children: []=None):\n",
    "        assert (_val is not None) and (\"type\" in _val) and (\"name\" in _val)\n",
    "        self.val = _val\n",
    "        self.children = []\n",
    "        if _children:\n",
    "            for child in _children:\n",
    "                self.children.append(child)\n",
    "    \n",
    "    @classmethod\n",
    "    def newTreeNode(cls, _val: dict):\n",
    "        return cls(_val)"
   ]
  },
  {
   "cell_type": "code",
   "execution_count": null,
   "metadata": {},
   "outputs": [],
   "source": [
    "class Forest(object):\n",
    "    \"\"\"\n",
    "    Forest constructed by list of parallel Tree from parsing html tree.\n",
    "    \"\"\"\n",
    "    def __init__(self, fname: str):\n",
    "        self.roots = []\n",
    "        assert os.path.exists(str)\n",
    "        with open(fname, 'rb') as f:\n",
    "            with line in f:\n",
    "                raise NotImplementedError\n",
    "        \n",
    "    def newTree(self, root: TreeNode=None, f: IOBase):\n",
    "        \"\"\"\n",
    "        new Tree and return root node of Tree via parsing input file handle f.\n",
    "        \"\"\"\n",
    "        return root"
   ]
  },
  {
   "cell_type": "code",
   "execution_count": 3,
   "metadata": {},
   "outputs": [],
   "source": [
    "root = TreeNode.newTreeNode({\n",
    "    \"type\": TreeNodeType.FOLDED,\n",
    "    \"name\": \"Favoritess\"\n",
    "})"
   ]
  }
 ],
 "metadata": {
  "jupytext": {
   "formats": "ipynb,py:light",
   "text_representation": {
    "extension": ".py",
    "format_name": "light",
    "format_version": "1.3",
    "jupytext_version": "0.8.2"
   }
  },
  "kernelspec": {
   "display_name": "Python 3",
   "language": "python",
   "name": "python3"
  },
  "language_info": {
   "codemirror_mode": {
    "name": "ipython",
    "version": 3
   },
   "file_extension": ".py",
   "mimetype": "text/x-python",
   "name": "python",
   "nbconvert_exporter": "python",
   "pygments_lexer": "ipython3",
   "version": "3.6.7"
  }
 },
 "nbformat": 4,
 "nbformat_minor": 2
}
